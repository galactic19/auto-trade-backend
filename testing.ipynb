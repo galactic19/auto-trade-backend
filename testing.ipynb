{
 "cells": [
  {
   "metadata": {
    "ExecuteTime": {
     "end_time": "2025-08-22T17:09:24.424720Z",
     "start_time": "2025-08-22T17:09:24.421418Z"
    }
   },
   "cell_type": "code",
   "source": [
    "def test_fn(*args, **kwargs):\n",
    "    print(kwargs['name'])\n",
    "    for key, name in kwargs.items():\n",
    "        print(key, name)"
   ],
   "id": "1b4ee76d8954a507",
   "outputs": [],
   "execution_count": 32
  },
  {
   "cell_type": "code",
   "id": "initial_id",
   "metadata": {
    "collapsed": true,
    "ExecuteTime": {
     "end_time": "2025-08-22T17:09:25.317913Z",
     "start_time": "2025-08-22T17:09:25.314594Z"
    }
   },
   "source": "test_fn({'tt':'1'}, name='test', age='15', gender='male')",
   "outputs": [
    {
     "name": "stdout",
     "output_type": "stream",
     "text": [
      "test\n",
      "name test\n",
      "age 15\n",
      "gender male\n"
     ]
    }
   ],
   "execution_count": 33
  },
  {
   "metadata": {
    "ExecuteTime": {
     "end_time": "2025-08-22T16:49:26.476145Z",
     "start_time": "2025-08-22T16:49:26.472692Z"
    }
   },
   "cell_type": "code",
   "source": [
    "def arr_test_fn(*args):\n",
    "    for item, key in enumerate(args):\n",
    "        print(item, key)"
   ],
   "id": "245e95e5154b1e2c",
   "outputs": [],
   "execution_count": 13
  },
  {
   "metadata": {
    "ExecuteTime": {
     "end_time": "2025-08-22T17:26:56.917460Z",
     "start_time": "2025-08-22T17:26:56.913279Z"
    }
   },
   "cell_type": "code",
   "source": "arr_test_fn('test', 'test2', 'test3', {'tt':'1'})",
   "id": "9552d29380a2e70f",
   "outputs": [
    {
     "name": "stdout",
     "output_type": "stream",
     "text": [
      "0 test\n",
      "1 test2\n",
      "2 test3\n",
      "3 {'tt': '1'}\n"
     ]
    }
   ],
   "execution_count": 34
  },
  {
   "metadata": {
    "ExecuteTime": {
     "end_time": "2025-08-26T16:56:34.534721Z",
     "start_time": "2025-08-26T16:56:34.530833Z"
    }
   },
   "cell_type": "code",
   "source": [
    "dict1 = {'dict1': 1}\n",
    "dict2 = {'dict2': 2}\n",
    "\n",
    "# dict1.update(dict2)\n",
    "merge = dict1 | dict2\n",
    "print(merge)\n",
    "print(dict2)\n",
    "\n",
    "dict1.setdefault('name', '123')\n",
    "print(dict1)\n",
    "dict1.setdefault('name', '234')\n",
    "print(dict1.get('name'))\n"
   ],
   "id": "d6f25e42c64b5e89",
   "outputs": [
    {
     "name": "stdout",
     "output_type": "stream",
     "text": [
      "{'dict1': 1, 'dict2': 2}\n",
      "{'dict2': 2}\n",
      "{'dict1': 1, 'name': '123'}\n",
      "123\n"
     ]
    }
   ],
   "execution_count": 29
  },
  {
   "metadata": {
    "ExecuteTime": {
     "end_time": "2025-08-26T16:56:55.788028Z",
     "start_time": "2025-08-26T16:56:55.785324Z"
    }
   },
   "cell_type": "code",
   "source": [
    "name = 'test'\n",
    "\n",
    "type(name).__name__\n",
    "\n",
    "assert type(name).__name__ != int, '숫자가 아닙니다'"
   ],
   "id": "b6a4d77fc1fd21aa",
   "outputs": [],
   "execution_count": 31
  },
  {
   "metadata": {
    "ExecuteTime": {
     "end_time": "2025-08-26T16:57:57.145932Z",
     "start_time": "2025-08-26T16:57:57.141715Z"
    }
   },
   "cell_type": "code",
   "source": [
    "a = 1\n",
    "type(a).__name__\n"
   ],
   "id": "923820d3fb1e691b",
   "outputs": [
    {
     "data": {
      "text/plain": [
       "'int'"
      ]
     },
     "execution_count": 34,
     "metadata": {},
     "output_type": "execute_result"
    }
   ],
   "execution_count": 34
  }
 ],
 "metadata": {
  "kernelspec": {
   "display_name": "Python 3",
   "language": "python",
   "name": "python3"
  },
  "language_info": {
   "codemirror_mode": {
    "name": "ipython",
    "version": 2
   },
   "file_extension": ".py",
   "mimetype": "text/x-python",
   "name": "python",
   "nbconvert_exporter": "python",
   "pygments_lexer": "ipython2",
   "version": "2.7.6"
  }
 },
 "nbformat": 4,
 "nbformat_minor": 5
}
